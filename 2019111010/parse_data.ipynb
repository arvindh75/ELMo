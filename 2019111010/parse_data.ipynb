{
 "cells": [
  {
   "cell_type": "code",
   "execution_count": 1,
   "id": "0614a51a-6b0c-495f-96ce-4c017623da12",
   "metadata": {},
   "outputs": [],
   "source": [
    "import json\n",
    "import glob\n",
    "import string"
   ]
  },
  {
   "cell_type": "code",
   "execution_count": 19,
   "id": "28d654f4-f375-4844-921a-802cab3e8011",
   "metadata": {},
   "outputs": [],
   "source": [
    "mega_file_txt = \"\""
   ]
  },
  {
   "cell_type": "code",
   "execution_count": 20,
   "id": "10cc0eb3-dcf9-49d9-bda8-669591163ca0",
   "metadata": {},
   "outputs": [],
   "source": [
    "for filename in glob.iglob(\"./data/swb_ms98_transcriptions/\" + '**/*trans.text', recursive=True):\n",
    "    with open(filename) as f:\n",
    "        for line in f:\n",
    "            mega_file_txt += line"
   ]
  },
  {
   "cell_type": "code",
   "execution_count": 21,
   "id": "9f2551c7-bfe9-4a42-89e0-abc793778a09",
   "metadata": {},
   "outputs": [
    {
     "data": {
      "text/plain": [
       "\"sw2006A-ms98-a-0001 0.000000 15.963250 [silence]\\nsw2006A-ms98-a-0002 15.963250 17.349750 right\\nsw2006A-ms98-a-0003 17.349750 26.010875 [silence]\\nsw2006A-ms98-a-0004 26.010875 34.825125 me i'm in the legal department and um we do have uh a group of attorneys who handle our environmental issues\\nsw2006A-ms98-a-0005 34.825125 47.291625 and i don't know too much about the air pollution thing i do know for other types of uh pollution like the toxic waste and such that TI has to dispose of the we normally put in the ground you know we're coming up with a\\nsw2006A-ms98-a-0006 47.291625 60.269750 a new solution we have been finding a lot of toxic places to dump and we just transport to these places but after while it always seems that the um oh the site starts to leak and then you have to clean it up and such\\nsw2006A-ms98-a-0007 60.269750 73.063125 but the new idea is to take everything up to Sherman and we're gonna have that you know incineration place up there and dump everything there and sup\""
      ]
     },
     "execution_count": 21,
     "metadata": {},
     "output_type": "execute_result"
    }
   ],
   "source": [
    "mega_file_txt[:1000]"
   ]
  },
  {
   "cell_type": "code",
   "execution_count": 22,
   "id": "0b11a5af-1a2b-4539-81d7-7fa92b3eb7b4",
   "metadata": {},
   "outputs": [],
   "source": [
    "with open(\"./data/final_data.txt\", \"w\") as f:\n",
    "    f.write(mega_file_txt)"
   ]
  },
  {
   "cell_type": "code",
   "execution_count": 76,
   "id": "f79adf50-e6a5-4d0e-99ba-195ae485c87d",
   "metadata": {},
   "outputs": [],
   "source": [
    "mega_file_txt_parsed = \"\""
   ]
  },
  {
   "cell_type": "code",
   "execution_count": 77,
   "id": "3fae16b5-1bc5-4ce3-b453-e3f5ceb90aba",
   "metadata": {},
   "outputs": [],
   "source": [
    "with open(\"./data/final_data.txt\") as f:\n",
    "    for line in f:\n",
    "        a = line.rstrip().split()[3:]\n",
    "        for indx, w1 in enumerate(a):\n",
    "            if w1[0] == \"[\":\n",
    "                a[indx] = \"<TBR>\"\n",
    "                continue\n",
    "            a[indx] = w1.replace(\"[\",\"\").replace(\"]\",\"\").replace(\"'\", \"\").strip(string.punctuation)\n",
    "            if indx < len(a)-1:\n",
    "                a[indx+1] = a[indx+1].replace(\"[\",\"\").replace(\"]\",\"\").replace(\"'\", \"\").strip(string.punctuation)\n",
    "                if a[indx] == a[indx+1]:\n",
    "                    a[indx+1] = \"<TBR>\"\n",
    "        for indx, w in enumerate(a):\n",
    "            a[indx] = w.replace(\"<TBR>\",\"\").strip()\n",
    "        if(len(a)) == 0:\n",
    "            continue\n",
    "        b = \" \".join(a)\n",
    "        c = b.replace(\"[\",\"\").replace(\"]\",\"\").replace(\"'\", \"\").strip(string.punctuation) + \"\\n\"\n",
    "        if c == \"\\n\":\n",
    "            continue\n",
    "        mega_file_txt_parsed += c"
   ]
  },
  {
   "cell_type": "code",
   "execution_count": 78,
   "id": "de5fa006-26ec-4deb-b2e6-e588a94ae605",
   "metadata": {},
   "outputs": [
    {
     "data": {
      "text/plain": [
       "'right\\nme im in the legal department and um we do have uh a group of attorneys who handle our environmental issues\\nand i dont know too much about the air pollution thing i do know for other types of uh pollution like the toxic waste and such that TI has to dispose of the we normally put in the ground you know were coming up with a\\na new solution we have been finding a lot of toxic places to dump and we just transport to these places but after while it always seems that the um oh the site starts to leak and then you have to clean it up and such\\nbut the new idea is to take everything up to Sherman and were gonna have that you know incineration place up there and dump everything there and supposedly that facility will not generate air pollutants\\nfrom what ive heard that everything would be in TBR you know a confined kind of incinerator and just burn it all up and that we wont be polluting the air im sure we have to have\\nuh permits you know for that place and that theres you know limits as '"
      ]
     },
     "execution_count": 78,
     "metadata": {},
     "output_type": "execute_result"
    }
   ],
   "source": [
    "mega_file_txt_parsed[:1000]"
   ]
  },
  {
   "cell_type": "code",
   "execution_count": 79,
   "id": "8d313db9-8380-4d79-ae71-ff1d76fcd393",
   "metadata": {},
   "outputs": [],
   "source": [
    "with open(\"./data/final_data_parsed.txt\", \"w\") as f:\n",
    "    f.write(mega_file_txt_parsed)"
   ]
  },
  {
   "cell_type": "code",
   "execution_count": 7,
   "id": "25b98543-23d9-42a5-9c21-7de2f0ea4db0",
   "metadata": {},
   "outputs": [],
   "source": [
    "final_data = []\n",
    "final_data2 = []"
   ]
  },
  {
   "cell_type": "code",
   "execution_count": 8,
   "id": "ed3dfdfc-50aa-40a1-9953-eac418773814",
   "metadata": {},
   "outputs": [],
   "source": [
    "with open(\"./data/final_data_parsed.txt\") as f:\n",
    "    for line in f:\n",
    "        final_data.append(line.split())\n",
    "        final_data2.append(line.strip())"
   ]
  },
  {
   "cell_type": "code",
   "execution_count": 9,
   "id": "a9d4410d-21b7-48b2-8330-f87cdcce3ed9",
   "metadata": {},
   "outputs": [],
   "source": [
    "with open(\"./data/corpus_split.json\", \"w\") as f:\n",
    "    json.dump(final_data, f)"
   ]
  },
  {
   "cell_type": "code",
   "execution_count": 10,
   "id": "4e0378ae-b478-4761-a7b4-5a4bc2148f91",
   "metadata": {},
   "outputs": [],
   "source": [
    "with open(\"./data/corpus.json\", \"w\") as f:\n",
    "    json.dump(final_data2, f)"
   ]
  }
 ],
 "metadata": {
  "kernelspec": {
   "display_name": "Python 3",
   "language": "python",
   "name": "python3"
  },
  "language_info": {
   "codemirror_mode": {
    "name": "ipython",
    "version": 3
   },
   "file_extension": ".py",
   "mimetype": "text/x-python",
   "name": "python",
   "nbconvert_exporter": "python",
   "pygments_lexer": "ipython3",
   "version": "3.9.7"
  }
 },
 "nbformat": 4,
 "nbformat_minor": 5
}
